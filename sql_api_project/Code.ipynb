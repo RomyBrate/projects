{
 "cells": [
  {
   "attachments": {},
   "cell_type": "markdown",
   "id": "1081d0df",
   "metadata": {},
   "source": [
    "## DOCUMENTATION // \"WINTER STORM ELLIOTT\" // API-SQL-PROJECT // GROUP 3"
   ]
  },
  {
   "attachments": {},
   "cell_type": "markdown",
   "id": "4eafd81c",
   "metadata": {},
   "source": [
    "![weather map of the United States for winter storm Elliott](/Users/christoph/neuefische/da-sql-api-project-1/images/winter_storm_elliott.jpg)"
   ]
  },
  {
   "attachments": {},
   "cell_type": "markdown",
   "id": "ac59b93e",
   "metadata": {},
   "source": [
    "**This notebook documents the work process of group 3 for data retrieval, cleaning and analysis on the winter storm Elliott (December 2022)**\n",
    "\n",
    "##### Process Overview\n",
    "\n",
    "0. Background\n",
    "1. Importing Relevant Libraries and Packages\n",
    "2. Retrieving Flights Data\n",
    "3. Retrieving Weather Data\n",
    "4. Data Analysis\n",
    "\n",
    "\n"
   ]
  },
  {
   "attachments": {},
   "cell_type": "markdown",
   "id": "252bca22",
   "metadata": {},
   "source": [
    "## 0. Background"
   ]
  },
  {
   "attachments": {},
   "cell_type": "markdown",
   "id": "c447a31e",
   "metadata": {},
   "source": [
    "![air plane snowstorm](/Users/christoph/neuefische/da-sql-api-project-1/images/plane_winter_storm.jpeg)"
   ]
  },
  {
   "attachments": {},
   "cell_type": "markdown",
   "id": "d2d0b19b",
   "metadata": {},
   "source": [
    "**Winter Storm \"Elliott\"**\n",
    "\n",
    "From December 21 to 26, 2022, a historic extratropical cyclone created winter storm conditions, including blizzards, high winds, snowfall, or record cold temperatures across the majority of the United States and parts of Canada. Areas which experienced blizzard conditions included parts of Minnesota, Iowa, Wisconsin, Michigan, Ohio, New York and Ontario, with the Buffalo area of New York and the Fort Erie and Kingston areas of Ontario experiencing almost two full days of blizzard/zero-visibility conditions on December 23 and 24. The cold wave affected all U.S. states from Colorado to the eastern seaboard and as far south as Miami, Florida. On December 24, 110 million people across 36 states were subject to wind chill alerts."
   ]
  },
  {
   "attachments": {},
   "cell_type": "markdown",
   "id": "7df934d8",
   "metadata": {},
   "source": [
    "Additional noteworthy weather events in the time period considered (December 2022):\n",
    "\n",
    "**Tornado outbreak of December 12–15, 2022**\n",
    "\n",
    "A four-day tornado outbreak affected the Central and Southern United States in mid-December 2022. The outbreak produced strong tornadoes in Oklahoma, Texas, Louisiana, Mississippi, and Georgia, resulting in severe damage and three fatalities."
   ]
  },
  {
   "cell_type": "code",
   "execution_count": null,
   "id": "dde834e0",
   "metadata": {},
   "outputs": [],
   "source": []
  },
  {
   "attachments": {},
   "cell_type": "markdown",
   "id": "41436051",
   "metadata": {},
   "source": [
    "**Scope of analysis - Assessing Air Traffic Impact on 8 Major Hubs**\n",
    "\n",
    "In assessing the impact of the December 2022 winter storm on US airline traffic, we narrowed our analysis to some the busiest airports in the continental United States. The airport locations are well dispersed and cover all major geographical areas: East Coast, Mid-West, South, West Coast\n",
    "\n",
    "|   | Airport Name  | IATA/FAA Code | City | U.S. State |\n",
    "|---|---|---|---|---|\n",
    "| 1 | Hartsfield–Jackson Atlanta International Airport | ATL | Atlanta | GA |\n",
    "| 2 | Dallas/Fort Worth International Airport | DFW | Dallas & Fort Worth | TX |\n",
    "| 3 | Denver International Airport | DEN | Denver | CO |\n",
    "| 4 | O'Hare International Airport | ORD | Chicago | IL |\n",
    "| 5 | Los Angeles International Airport | LAX  | Los Angeles | CA |\n",
    "| 6 | John F. Kennedy International Airport | JFK | New York City | NY |\n",
    "| 7 | Newark Liberty International Airport  | EWR | Newark & New York City | NJ |\n",
    "| 8 | LaGuardia Airport | LGA | New York City | NY |\n"
   ]
  },
  {
   "cell_type": "code",
   "execution_count": null,
   "id": "67203a34",
   "metadata": {},
   "outputs": [],
   "source": []
  },
  {
   "attachments": {},
   "cell_type": "markdown",
   "id": "7f0fb626",
   "metadata": {},
   "source": [
    "## 1. Importing Relevant Libraries and Packages"
   ]
  },
  {
   "cell_type": "code",
   "execution_count": 4,
   "id": "b777e805",
   "metadata": {},
   "outputs": [],
   "source": [
    "# Import all necessary libraries\n",
    "import pandas as pd\n",
    "import numpy as np\n",
    "import psycopg2 # needed to get database exception errors when uploading dataframe\n",
    "import requests # package for getting data from the web\n",
    "from zipfile import * # package for unzipping zip files\n",
    "import json # package for handling json files\n",
    "import time # package for delaying API queries"
   ]
  },
  {
   "cell_type": "code",
   "execution_count": 6,
   "id": "f576d796",
   "metadata": {},
   "outputs": [],
   "source": [
    "# Import the get_engine function from our sql_functions.\n",
    "from sql_functions import get_engine, get_dataframe, get_sql_config #adjust this as necessary to match your sql_functions.py connection methods"
   ]
  },
  {
   "attachments": {},
   "cell_type": "markdown",
   "id": "67b8b8d8",
   "metadata": {},
   "source": [
    "## 2. Retrieving Flights Data"
   ]
  },
  {
   "cell_type": "code",
   "execution_count": null,
   "id": "6c71975b",
   "metadata": {},
   "outputs": [],
   "source": []
  },
  {
   "attachments": {},
   "cell_type": "markdown",
   "id": "fc483e3e",
   "metadata": {},
   "source": [
    "#### 2.1. Downloading csv file with flights data for specific year/month"
   ]
  },
  {
   "attachments": {},
   "cell_type": "markdown",
   "id": "4c3c3fe3",
   "metadata": {},
   "source": [
    "**Datasource:** [US Bureau of Transportation](https://transtats.bts.gov)\n",
    "\n",
    "**Time period:** Monthly data for December of 2018 - 2022"
   ]
  },
  {
   "cell_type": "code",
   "execution_count": null,
   "id": "8a61deca",
   "metadata": {},
   "outputs": [],
   "source": [
    "# Specifies path for saving file\n",
    "path ='data/' \n",
    "# Create the data folder\n",
    "!mkdir {path}"
   ]
  },
  {
   "cell_type": "code",
   "execution_count": null,
   "id": "5dff7a76",
   "metadata": {},
   "outputs": [],
   "source": [
    "# function to get specified csv file from the website https://transtats.bts.gov\n",
    "\n",
    "def download_data(year, month):\n",
    "    # Get the file from the website https://transtats.bts.gov\n",
    "    zip_file = f'On_Time_Reporting_Carrier_On_Time_Performance_1987_present_{year}_{month}.zip'\n",
    "    url = (f'https://transtats.bts.gov/PREZIP/{zip_file}')\n",
    "    # Download the database\n",
    "    r = requests.get(f'{url}', verify=False)\n",
    "    # Save database to local file storage\n",
    "    with open(path+zip_file, 'wb') as f:\n",
    "        f.write(r.content)\n",
    "        print(f'--> zip_file with name: {zip_file} downloaded succesfully.' )"
   ]
  },
  {
   "cell_type": "code",
   "execution_count": null,
   "id": "b1588f2b",
   "metadata": {},
   "outputs": [],
   "source": [
    "# function to extract the csv files inside the zip files:\n",
    "\n",
    "def extract_zip(year, month):\n",
    "    # Get the file from the website https://transtats.bts.gov\n",
    "    zip_file = f'On_Time_Reporting_Carrier_On_Time_Performance_1987_present_{year}_{month}.zip'\n",
    "    with ZipFile(path+zip_file, 'r') as zip_ref:\n",
    "        zip_ref.extractall(path)\n",
    "        csv_file =  zip_ref.namelist()[0]\n",
    "        print(f'--> zip_file was succesfully extracted to: {csv_file}.' )"
   ]
  },
  {
   "cell_type": "code",
   "execution_count": null,
   "id": "a8738fcd",
   "metadata": {},
   "outputs": [],
   "source": [
    "# specifying time period to be analyzed:\n",
    "years_list = [2018, 2019, 2020, 2021, 2022]\n",
    "months_list = [12]\n",
    "\n",
    "# download flights data as zipfile(s) using nested loop to specify month/years to define the range of the data: \n",
    "for year in years_list:\n",
    "    for month in months_list:\n",
    "        download_data(year, month)\n",
    "        extract_zip(year, month)"
   ]
  },
  {
   "attachments": {},
   "cell_type": "markdown",
   "id": "e33b6cd3",
   "metadata": {},
   "source": [
    "#### 2.2. Naming CSV files for December 2018 until 2022"
   ]
  },
  {
   "cell_type": "code",
   "execution_count": null,
   "id": "e98fa1a6",
   "metadata": {},
   "outputs": [],
   "source": [
    "# define the name of the csv file to be read in:\n",
    "csv_file_2018_12 = 'On_Time_Reporting_Carrier_On_Time_Performance_(1987_present)_2018_12.csv'\n",
    "\n",
    "# reading in data:\n",
    "df_2018_12 = pd.read_csv(path+csv_file_2018_12, low_memory = False)\n",
    "display(df_2018_12.shape)\n",
    "display(df_2018_12.head(10))"
   ]
  },
  {
   "cell_type": "code",
   "execution_count": null,
   "id": "c8dc2730",
   "metadata": {},
   "outputs": [],
   "source": [
    "# defining the name of the csv file to be read in:\n",
    "csv_file_2019_12 = 'On_Time_Reporting_Carrier_On_Time_Performance_(1987_present)_2019_12.csv'\n",
    "\n",
    "# reading in data:\n",
    "df_2019_12 = pd.read_csv(path+csv_file_2019_12, low_memory = False)\n",
    "display(df_2019_12.shape)\n",
    "display(df_2019_12.head(10))"
   ]
  },
  {
   "cell_type": "code",
   "execution_count": null,
   "id": "1b3e3a62",
   "metadata": {},
   "outputs": [],
   "source": [
    "# defining the name of the csv file to be read in:\n",
    "csv_file_2020_12 = 'On_Time_Reporting_Carrier_On_Time_Performance_(1987_present)_2020_12.csv'\n",
    "\n",
    "# reading in data:\n",
    "df_2020_12 = pd.read_csv(path+csv_file_2020_12, low_memory = False)\n",
    "display(df_2020_12.shape)\n",
    "display(df_2020_12.head(10))"
   ]
  },
  {
   "cell_type": "code",
   "execution_count": null,
   "id": "2e6cfc71",
   "metadata": {},
   "outputs": [],
   "source": [
    "# defining the name of the csv file to be read in:\n",
    "csv_file_2021_12 = 'On_Time_Reporting_Carrier_On_Time_Performance_(1987_present)_2021_12.csv'\n",
    "\n",
    "# reading in data:\n",
    "df_2021_12 = pd.read_csv(path+csv_file_2021_12, low_memory = False)\n",
    "display(df_2021_12.shape)\n",
    "display(df_2021_12.head(10))"
   ]
  },
  {
   "cell_type": "code",
   "execution_count": null,
   "id": "2f721306",
   "metadata": {},
   "outputs": [],
   "source": [
    "# defining the name of the csv file to be read in:\n",
    "csv_file_2022_12 = 'On_Time_Reporting_Carrier_On_Time_Performance_(1987_present)_2022_12.csv'\n",
    "\n",
    "# reading in data:\n",
    "df_2022_12 = pd.read_csv(path+csv_file_2022_12, low_memory = False)\n",
    "display(df_2022_12.shape)\n",
    "display(df_2022_12.head(10))"
   ]
  },
  {
   "attachments": {},
   "cell_type": "markdown",
   "id": "2cdab2b0",
   "metadata": {},
   "source": [
    "#### 2.3. Combining flights data frames for all years (December of 2018 - 2022)"
   ]
  },
  {
   "cell_type": "code",
   "execution_count": null,
   "id": "514d11cc",
   "metadata": {},
   "outputs": [
    {
     "data": {
      "text/plain": [
       "(2699942, 110)"
      ]
     },
     "metadata": {},
     "output_type": "display_data"
    }
   ],
   "source": [
    "\"\"\"frames = [df_2018_1, df_2018_12, df_2019_1, df_2019_12, df_2020_1, df_2020_12, df_2021_1, df_2021_12, df_2022_1, df_2022_12]\"\"\"\n",
    "\n",
    "# combining data frames with concat function:\n",
    "frames2 = [df_2018_12, df_2019_12, df_2020_12, df_2021_12, df_2022_12]\n",
    "df = pd.concat(frames2)\n",
    "df.shape"
   ]
  },
  {
   "attachments": {},
   "cell_type": "markdown",
   "id": "84fdf703",
   "metadata": {},
   "source": [
    "#### Cleaning and preparing flights csv file for further processing"
   ]
  },
  {
   "cell_type": "code",
   "execution_count": null,
   "id": "ed794431",
   "metadata": {},
   "outputs": [],
   "source": [
    "# defining columns from downloaded file to be kept:\n",
    "\n",
    "columns_to_keep = [\n",
    "                'FlightDate',\n",
    "                'DepTime',\n",
    "                'CRSDepTime',\n",
    "                'DepDelay',\n",
    "                'ArrTime',\n",
    "                'CRSArrTime',\n",
    "                'ArrDelay',\n",
    "                'Reporting_Airline',\n",
    "                'Tail_Number',\n",
    "                'Flight_Number_Reporting_Airline',\n",
    "                'Origin',\n",
    "                'Dest',\n",
    "                'AirTime',\n",
    "                'ActualElapsedTime',\n",
    "                'Distance',\n",
    "                'Cancelled',\n",
    "                'Diverted'\n",
    "]"
   ]
  },
  {
   "cell_type": "code",
   "execution_count": null,
   "id": "15cfb755",
   "metadata": {},
   "outputs": [
    {
     "data": {
      "text/plain": [
       "[('flight_date',),\n",
       " ('dep_time',),\n",
       " ('sched_dep_time',),\n",
       " ('dep_delay',),\n",
       " ('arr_time',),\n",
       " ('sched_arr_time',),\n",
       " ('arr_delay',),\n",
       " ('airline',),\n",
       " ('tail_number',),\n",
       " ('flight_number',),\n",
       " ('origin',),\n",
       " ('dest',),\n",
       " ('air_time',),\n",
       " ('actual_elapsed_time',),\n",
       " ('distance',),\n",
       " ('cancelled',),\n",
       " ('diverted',)]"
      ]
     },
     "metadata": {},
     "output_type": "display_data"
    }
   ],
   "source": [
    "# columns in database have different naming as in the source csv files\n",
    "# retrieving names from the database:\n",
    "\n",
    "schema = 'hh_analytics_23_1'\n",
    "engine = get_engine()\n",
    "\n",
    "table_name_sql = f'''SELECT COLUMN_NAME \n",
    "                    FROM INFORMATION_SCHEMA.COLUMNS \n",
    "                    WHERE TABLE_NAME = 'flights'\n",
    "                    AND TABLE_SCHEMA ='{schema}'\n",
    "                    ORDER BY ordinal_position'''\n",
    "c_names = engine.execute(table_name_sql).fetchall()\n",
    "c_names"
   ]
  },
  {
   "cell_type": "code",
   "execution_count": null,
   "id": "38ee99e7",
   "metadata": {},
   "outputs": [
    {
     "data": {
      "text/plain": [
       "['flight_date',\n",
       " 'dep_time',\n",
       " 'sched_dep_time',\n",
       " 'dep_delay',\n",
       " 'arr_time',\n",
       " 'sched_arr_time',\n",
       " 'arr_delay',\n",
       " 'airline',\n",
       " 'tail_number',\n",
       " 'flight_number',\n",
       " 'origin',\n",
       " 'dest',\n",
       " 'air_time',\n",
       " 'actual_elapsed_time',\n",
       " 'distance',\n",
       " 'cancelled',\n",
       " 'diverted']"
      ]
     },
     "metadata": {},
     "output_type": "display_data"
    }
   ],
   "source": [
    "# cleaning up the results into a clean list:\n",
    "new_column_names=[]\n",
    "for name in c_names:\n",
    "    new_column_names.append(name[0])\n",
    "new_column_names        "
   ]
  },
  {
   "cell_type": "code",
   "execution_count": null,
   "id": "db694bd0",
   "metadata": {},
   "outputs": [],
   "source": [
    "# defining a function to transform csv file into a data frame to be used for SQL upload:\n",
    "\n",
    "def clean_airline_df(df):\n",
    "    '''\n",
    "    Transforms a df made from BTS csv file into a df that is ready to be uploaded to SQL\n",
    "    Set rows=0 for no filtering\n",
    "    '''\n",
    "\n",
    "    # build dataframe including only the columns you want to keep\n",
    "    df_airline = df.loc[:,columns_to_keep]\n",
    "     \n",
    "    # clean data types and NULLs\n",
    "    df_airline['FlightDate']= pd.to_datetime(df_airline['FlightDate'], yearfirst=True)\n",
    "    df_airline['CRSArrTime']= pd.to_numeric(df_airline['CRSArrTime'], downcast='integer', errors='coerce')\n",
    "    df_airline['Cancelled']= pd.to_numeric(df_airline['Cancelled'], downcast='integer')\n",
    "    df_airline['Diverted']= pd.to_numeric(df_airline['Diverted'], downcast='integer')\n",
    "    df_airline['ActualElapsedTime']= pd.to_numeric(df_airline['ActualElapsedTime'], downcast='integer', errors='coerce')\n",
    "    \n",
    "    # rename columns\n",
    "    df_airline.columns = new_column_names\n",
    "    \n",
    "    return df_airline"
   ]
  },
  {
   "cell_type": "code",
   "execution_count": null,
   "id": "e487470c",
   "metadata": {},
   "outputs": [
    {
     "data": {
      "text/html": [
       "<div>\n",
       "<style scoped>\n",
       "    .dataframe tbody tr th:only-of-type {\n",
       "        vertical-align: middle;\n",
       "    }\n",
       "\n",
       "    .dataframe tbody tr th {\n",
       "        vertical-align: top;\n",
       "    }\n",
       "\n",
       "    .dataframe thead th {\n",
       "        text-align: right;\n",
       "    }\n",
       "</style>\n",
       "<table border=\"1\" class=\"dataframe\">\n",
       "  <thead>\n",
       "    <tr style=\"text-align: right;\">\n",
       "      <th></th>\n",
       "      <th>flight_date</th>\n",
       "      <th>dep_time</th>\n",
       "      <th>sched_dep_time</th>\n",
       "      <th>dep_delay</th>\n",
       "      <th>arr_time</th>\n",
       "      <th>sched_arr_time</th>\n",
       "      <th>arr_delay</th>\n",
       "      <th>airline</th>\n",
       "      <th>tail_number</th>\n",
       "      <th>flight_number</th>\n",
       "      <th>origin</th>\n",
       "      <th>dest</th>\n",
       "      <th>air_time</th>\n",
       "      <th>actual_elapsed_time</th>\n",
       "      <th>distance</th>\n",
       "      <th>cancelled</th>\n",
       "      <th>diverted</th>\n",
       "    </tr>\n",
       "  </thead>\n",
       "  <tbody>\n",
       "    <tr>\n",
       "      <th>0</th>\n",
       "      <td>2018-12-18</td>\n",
       "      <td>957.0</td>\n",
       "      <td>1000</td>\n",
       "      <td>-3.0</td>\n",
       "      <td>1144.0</td>\n",
       "      <td>1212</td>\n",
       "      <td>-28.0</td>\n",
       "      <td>OO</td>\n",
       "      <td>N8903A</td>\n",
       "      <td>3984</td>\n",
       "      <td>MSP</td>\n",
       "      <td>ICT</td>\n",
       "      <td>85.0</td>\n",
       "      <td>107.0</td>\n",
       "      <td>545.0</td>\n",
       "      <td>0</td>\n",
       "      <td>0</td>\n",
       "    </tr>\n",
       "    <tr>\n",
       "      <th>1</th>\n",
       "      <td>2018-12-18</td>\n",
       "      <td>924.0</td>\n",
       "      <td>840</td>\n",
       "      <td>44.0</td>\n",
       "      <td>1058.0</td>\n",
       "      <td>1031</td>\n",
       "      <td>27.0</td>\n",
       "      <td>OO</td>\n",
       "      <td>N771SK</td>\n",
       "      <td>3989</td>\n",
       "      <td>DTW</td>\n",
       "      <td>RIC</td>\n",
       "      <td>63.0</td>\n",
       "      <td>94.0</td>\n",
       "      <td>456.0</td>\n",
       "      <td>0</td>\n",
       "      <td>0</td>\n",
       "    </tr>\n",
       "    <tr>\n",
       "      <th>2</th>\n",
       "      <td>2018-12-18</td>\n",
       "      <td>1134.0</td>\n",
       "      <td>1106</td>\n",
       "      <td>28.0</td>\n",
       "      <td>1318.0</td>\n",
       "      <td>1252</td>\n",
       "      <td>26.0</td>\n",
       "      <td>OO</td>\n",
       "      <td>N771SK</td>\n",
       "      <td>3989</td>\n",
       "      <td>RIC</td>\n",
       "      <td>DTW</td>\n",
       "      <td>76.0</td>\n",
       "      <td>104.0</td>\n",
       "      <td>456.0</td>\n",
       "      <td>0</td>\n",
       "      <td>0</td>\n",
       "    </tr>\n",
       "    <tr>\n",
       "      <th>3</th>\n",
       "      <td>2018-12-18</td>\n",
       "      <td>1049.0</td>\n",
       "      <td>1052</td>\n",
       "      <td>-3.0</td>\n",
       "      <td>1146.0</td>\n",
       "      <td>1148</td>\n",
       "      <td>-2.0</td>\n",
       "      <td>OO</td>\n",
       "      <td>N931EV</td>\n",
       "      <td>3991</td>\n",
       "      <td>CHA</td>\n",
       "      <td>ATL</td>\n",
       "      <td>29.0</td>\n",
       "      <td>57.0</td>\n",
       "      <td>106.0</td>\n",
       "      <td>0</td>\n",
       "      <td>0</td>\n",
       "    </tr>\n",
       "    <tr>\n",
       "      <th>4</th>\n",
       "      <td>2018-12-18</td>\n",
       "      <td>1104.0</td>\n",
       "      <td>1044</td>\n",
       "      <td>20.0</td>\n",
       "      <td>1414.0</td>\n",
       "      <td>1359</td>\n",
       "      <td>15.0</td>\n",
       "      <td>OO</td>\n",
       "      <td>N274SY</td>\n",
       "      <td>3993</td>\n",
       "      <td>BNA</td>\n",
       "      <td>LGA</td>\n",
       "      <td>114.0</td>\n",
       "      <td>130.0</td>\n",
       "      <td>764.0</td>\n",
       "      <td>0</td>\n",
       "      <td>0</td>\n",
       "    </tr>\n",
       "  </tbody>\n",
       "</table>\n",
       "</div>"
      ],
      "text/plain": [
       "  flight_date  dep_time  sched_dep_time  dep_delay  arr_time  sched_arr_time  \\\n",
       "0  2018-12-18     957.0            1000       -3.0    1144.0            1212   \n",
       "1  2018-12-18     924.0             840       44.0    1058.0            1031   \n",
       "2  2018-12-18    1134.0            1106       28.0    1318.0            1252   \n",
       "3  2018-12-18    1049.0            1052       -3.0    1146.0            1148   \n",
       "4  2018-12-18    1104.0            1044       20.0    1414.0            1359   \n",
       "\n",
       "   arr_delay airline tail_number  flight_number origin dest  air_time  \\\n",
       "0      -28.0      OO      N8903A           3984    MSP  ICT      85.0   \n",
       "1       27.0      OO      N771SK           3989    DTW  RIC      63.0   \n",
       "2       26.0      OO      N771SK           3989    RIC  DTW      76.0   \n",
       "3       -2.0      OO      N931EV           3991    CHA  ATL      29.0   \n",
       "4       15.0      OO      N274SY           3993    BNA  LGA     114.0   \n",
       "\n",
       "   actual_elapsed_time  distance  cancelled  diverted  \n",
       "0                107.0     545.0          0         0  \n",
       "1                 94.0     456.0          0         0  \n",
       "2                104.0     456.0          0         0  \n",
       "3                 57.0     106.0          0         0  \n",
       "4                130.0     764.0          0         0  "
      ]
     },
     "metadata": {},
     "output_type": "display_data"
    }
   ],
   "source": [
    "# calling function and checking resulting data frame:\n",
    "df_clean = clean_airline_df(df)\n",
    "df_clean.head()\n",
    "\n"
   ]
  },
  {
   "cell_type": "markdown",
   "id": "b742a452",
   "metadata": {},
   "source": [
    "If you decide to only look at specific airports, it is a good decision to filter for them in advance.  \n",
    "This function does the filtering. "
   ]
  },
  {
   "cell_type": "code",
   "execution_count": null,
   "id": "5426bcbc",
   "metadata": {},
   "outputs": [],
   "source": [
    "# defining function to filter airports of interest for data frame:\n",
    "def select_airport(df, airports):\n",
    "    ''' Helper function for filtering the airline dataframe for a subset of airports'''\n",
    "    df_out = df.loc[(df.origin.isin(airports)) | (df.dest.isin(airports))]\n",
    "    return df_out"
   ]
  },
  {
   "cell_type": "code",
   "execution_count": null,
   "id": "5918b983",
   "metadata": {},
   "outputs": [
    {
     "data": {
      "text/plain": [
       "(1297165, 17)"
      ]
     },
     "metadata": {},
     "output_type": "display_data"
    }
   ],
   "source": [
    "# executing function, filtering for airports:\n",
    "airports=['ATL', 'DFW', 'DEN', 'ORD', 'LAX', 'JFK', 'EWR', 'LGA']\n",
    "if len(airports) > 0:\n",
    "    df_selected_airports = select_airport(df_clean, airports)\n",
    "else:\n",
    "    df_selected_airports = df_clean\n",
    "    \n",
    "df_selected_airports.head()\n",
    "\n",
    "df_selected_airports.shape\n"
   ]
  },
  {
   "attachments": {},
   "cell_type": "markdown",
   "id": "635eaad3",
   "metadata": {},
   "source": [
    "#### 2.4. Linking the prepared data with SQL database"
   ]
  },
  {
   "cell_type": "code",
   "execution_count": null,
   "id": "9200e4ca",
   "metadata": {},
   "outputs": [
    {
     "name": "stdout",
     "output_type": "stream",
     "text": [
      "The flights_api_sql_group3 table was imported successfully.\n"
     ]
    }
   ],
   "source": [
    "# specifying table within database to push your data to:\n",
    "table_name = 'flights_api_sql_group3'\n",
    "\n",
    "# writing records stored in data frame to SQL database:\n",
    "if engine!=None:\n",
    "    try:\n",
    "        df_selected_airports.to_sql(name=table_name, # Name of SQL table\n",
    "                        con=engine, # Engine or connection\n",
    "                        if_exists='replace', # Drop the table before inserting new values \n",
    "                        schema=schema, # Use schmea that was defined earlier\n",
    "                        index=False, # Write DataFrame index as a column\n",
    "                        chunksize=5000, # Specify the number of rows in each batch to be written at a time\n",
    "                        method='multi') # Pass multiple values in a single INSERT clause\n",
    "        print(f\"The {table_name} table was imported successfully.\")\n",
    "    # Error handling\n",
    "    except (Exception, psycopg2.DatabaseError) as error:\n",
    "        print(error)\n",
    "        engine = None"
   ]
  },
  {
   "cell_type": "code",
   "execution_count": null,
   "id": "18cbf354",
   "metadata": {},
   "outputs": [
    {
     "data": {
      "text/plain": [
       "True"
      ]
     },
     "metadata": {},
     "output_type": "display_data"
    }
   ],
   "source": [
    "# due dilligence check if the number of rows match:\n",
    "table_name_sql = f'''SELECT count(*) \n",
    "                    FROM {schema}.{table_name}\n",
    "                    '''\n",
    "engine.execute(table_name_sql).fetchall()[0][0] == df_selected_airports.shape[0]"
   ]
  },
  {
   "attachments": {},
   "cell_type": "markdown",
   "id": "f5afce39",
   "metadata": {},
   "source": [
    "## 3. Retrieving Weather Data"
   ]
  },
  {
   "cell_type": "code",
   "execution_count": null,
   "id": "43033582",
   "metadata": {},
   "outputs": [],
   "source": [
    "# Set up engine for SQL queries\n",
    "\n",
    "from sql_functions import get_sql_config, get_dataframe\n",
    "sql_config = get_sql_config()"
   ]
  },
  {
   "attachments": {},
   "cell_type": "markdown",
   "id": "781b01c0",
   "metadata": {},
   "source": [
    "#### 3.1. Setting Up Relevant Variables and Functions for Weather Data Retrieval"
   ]
  },
  {
   "cell_type": "code",
   "execution_count": null,
   "id": "c87d5951",
   "metadata": {},
   "outputs": [],
   "source": [
    "# define list of relevant airports and respective timezones\n",
    "\n",
    "list_of_airports = ['ATL', 'DFW', 'DEN', 'ORD', 'LAX', 'JFK', 'EWR', 'LGA']\n",
    "\n",
    "list_of_timezones = ['America/New_York', 'America/Chicago', 'America/Denver', 'America/Chicago', \n",
    "                     'America/Los_Angeles', 'America/New_York', 'America/New_York', 'America/New_York']\n",
    "\n",
    "list_time_periods = ['2018', '2019', '2020', '2021', '2022']"
   ]
  },
  {
   "cell_type": "code",
   "execution_count": null,
   "id": "334b4dd8",
   "metadata": {},
   "outputs": [],
   "source": [
    "# function to find closest weather station using airport coordinates:\n",
    "\n",
    "def get_nearby_station(lat_airport, lon_airport):\n",
    "\t\"\"\"\n",
    "\tReturns closest weather station to given latitude/longitude coordinates.\n",
    "\t\"\"\"\n",
    "\turl = \"https://meteostat.p.rapidapi.com/stations/nearby\"\n",
    "\tquerystring = {\"lat\":lat_airport,\"lon\":lon_airport}\n",
    "\theaders = {\n",
    "\t\t\"X-RapidAPI-Key\": \"c146e8a0a8msh6d2b44ea283f4dbp1cfc76jsna784f1c16e6b\",\n",
    "\t\t\"X-RapidAPI-Host\": \"meteostat.p.rapidapi.com\"\n",
    "\t}\n",
    "\tresponse = requests.request(\"GET\", url, headers=headers, params=querystring)\n",
    "\treturn response"
   ]
  },
  {
   "cell_type": "code",
   "execution_count": null,
   "id": "eea9e504",
   "metadata": {},
   "outputs": [],
   "source": [
    "# function to query hourly weather data related to station id, adjusted for timezone\n",
    "\n",
    "def get_hourly_data(closest_station_id, start_date, end_date, timezone):\n",
    "    \"\"\"\n",
    "    Returns hourly weather data for a specified weather station ID.\n",
    "    \"\"\"\n",
    "    url = \"https://meteostat.p.rapidapi.com/stations/hourly\"\n",
    "    querystring = {\"station\":closest_station_id,\"start\":start_date,\"end\":end_date,\"tz\":timezone}\n",
    "    headers = {\n",
    "        \"X-RapidAPI-Key\": \"c146e8a0a8msh6d2b44ea283f4dbp1cfc76jsna784f1c16e6b\",\n",
    "        \"X-RapidAPI-Host\": \"meteostat.p.rapidapi.com\"\n",
    "    }\n",
    "    response = requests.request(\"GET\", url, headers=headers, params=querystring)\n",
    "    if response.status_code != 204:\n",
    "        print(response)\n",
    "        return response.json()"
   ]
  },
  {
   "cell_type": "code",
   "execution_count": null,
   "id": "75bbc908",
   "metadata": {},
   "outputs": [],
   "source": [
    "# function to query daily weather data related to station id\n",
    "\n",
    "def get_daily_data(closest_station_id, start_date, end_date):\n",
    "    \"\"\"\n",
    "    Returns hourly weather data for a specified weather station ID.\n",
    "    \"\"\"\n",
    "    url = \"https://meteostat.p.rapidapi.com/stations/daily\"\n",
    "    querystring = {\"station\":closest_station_id,\"start\":start_date,\"end\":end_date}\n",
    "    headers = {\n",
    "        \"X-RapidAPI-Key\": \"c146e8a0a8msh6d2b44ea283f4dbp1cfc76jsna784f1c16e6b\",\n",
    "        \"X-RapidAPI-Host\": \"meteostat.p.rapidapi.com\"\n",
    "    }\n",
    "    response = requests.request(\"GET\", url, headers=headers, params=querystring)\n",
    "    return response.json()"
   ]
  },
  {
   "attachments": {},
   "cell_type": "markdown",
   "id": "90884359",
   "metadata": {},
   "source": [
    "#### 3.2. API Query to Generate Weather Data"
   ]
  },
  {
   "cell_type": "code",
   "execution_count": null,
   "id": "039c3f3a",
   "metadata": {},
   "outputs": [],
   "source": [
    "# Create empty data frame, will be used to append each date and location's weather data:\n",
    "weather_data_df = pd.DataFrame([])\n",
    "weather_temp_df = pd.DataFrame([])\n",
    "\n",
    "# generating weather data for five different time intervals due to 30 day API query limit (Dec 2018-2022):\n",
    "\n",
    "\n",
    "for year in list_time_periods:\n",
    "      start_date = year + '-12-01'\n",
    "      end_date = year + '-12-30'\n",
    "      print(type(start_date))\n",
    "\n",
    "      # generating weather data for each airport over the time period using a for loop\n",
    "      for count, faa in enumerate(list_of_airports):\n",
    "            schema = 'hh_analytics_23_1'\n",
    "            query = f\"SELECT * FROM {schema}.airports WHERE faa = '{faa}';\"\n",
    "            airport_data = get_dataframe(query)\n",
    "\n",
    "            # retrieve latitude/longitude coordinates for each airport\n",
    "            lat_airport = airport_data.iloc[0]['lat']\n",
    "            lon_airport = airport_data.iloc[0]['lon']\n",
    "            #print(faa, lat_airport, lon_airport)\n",
    "            \n",
    "            # retrieve id of closest weather station to each airport\n",
    "            station_id = get_nearby_station(lat_airport, lon_airport)\n",
    "            #print(station_id)\n",
    "            #print(type(station_id))\n",
    "            closest_station_id = station_id.json()['data'][0]['id']\n",
    "            #print(closest_station_id)\n",
    "            #print(type(closest_station_id))\n",
    "            \n",
    "            # retrieve weather data for respective weather station(, to be adjusted for timezone)\n",
    "            weather_data = get_hourly_data(closest_station_id, start_date, end_date, list_of_timezones[count])\n",
    "            #print(weather_data))\n",
    "\n",
    "            # normalize json response:\n",
    "            weather_temp_by_faa_df = pd.json_normalize(weather_data, \n",
    "                                                sep=\",\", \n",
    "                                                record_path=\"data\",\n",
    "                                                errors='ignore')\n",
    "\n",
    "            # add respective location identifier ('faa) to weather data\n",
    "            weather_temp_by_faa_df['faa'] = faa\n",
    "\n",
    "            # Concatenate temporary query results with full data frame:\n",
    "            weather_temp_df = pd.concat([weather_temp_df, weather_temp_by_faa_df], ignore_index=True)\n",
    "\n",
    "            #delay query to avoid too many requests error\n",
    "            time.sleep(3)\n",
    "\n",
    "weather_data_df = pd.concat([weather_data_df, weather_temp_df], ignore_index=True)"
   ]
  },
  {
   "cell_type": "code",
   "execution_count": null,
   "id": "dc93c778",
   "metadata": {},
   "outputs": [],
   "source": [
    "# checking input:\n",
    "\n",
    "weather_data_df.head()"
   ]
  },
  {
   "attachments": {},
   "cell_type": "markdown",
   "id": "02a992eb",
   "metadata": {},
   "source": [
    "#### 3.3. Cleaning Weather Data"
   ]
  },
  {
   "cell_type": "code",
   "execution_count": null,
   "id": "36dd7c20",
   "metadata": {},
   "outputs": [],
   "source": [
    "# converting 'time' column to datetime object:\n",
    " \n",
    "weather_data_df['time'] = pd.to_datetime(weather_data_df['time'])"
   ]
  },
  {
   "cell_type": "code",
   "execution_count": null,
   "id": "ab9fe49a",
   "metadata": {},
   "outputs": [],
   "source": [
    "# converting weather codes into categories:\n",
    "\n",
    "# creating dictionary of weather condition code names: coco_dict:\n",
    "\n",
    "coco_dict = {0:'None',\n",
    "            1:'Clear',\n",
    "            2:'Fair',\n",
    "            3:'Cloudy',\n",
    "            4:'Overcast',\n",
    "            5:'Fog',\n",
    "            6:'Freezing Fog',\n",
    "            7:'Light Rain',\n",
    "            8:'Rain',\n",
    "            9:'Heavy Rain',\n",
    "            10:'Freezing Rain',\n",
    "            11:'Heavy Freezing Rain',\n",
    "            12:'Sleet',\n",
    "            13:'Heavy Sleet',\n",
    "            14:'Light Snowfall',\n",
    "            15:'Snowfall',\n",
    "            16:'Heavy Snowfall',\n",
    "            17:'Rain Shower',\n",
    "            18:'Heavy Rain Shower',\n",
    "            19:'Sleet Shower',\n",
    "            20:'Heavy Sleet Shower',\n",
    "            21:'Snow Shower',\n",
    "            22:'Heavy Snow Shower',\n",
    "            23:'Lightning',\n",
    "            24:'Hail',\n",
    "            25:'Thunderstorm',\n",
    "            26:'Heavy Thunderstorm',\n",
    "            27:'Storm',\n",
    "            None:'None'}\n",
    "\n",
    "weather_data_df['weather_condition'] = weather_data_df['weather_condition_code'].map(coco_dict)"
   ]
  },
  {
   "cell_type": "code",
   "execution_count": null,
   "id": "397e19b1",
   "metadata": {},
   "outputs": [],
   "source": [
    "# dropping irrelevant columns:\n",
    "\n",
    "weather_data_df.drop(columns={'dwpt', 'rhum', 'wdir', 'pres', 'tsun'}, axis=1, inplace=True)"
   ]
  },
  {
   "cell_type": "code",
   "execution_count": null,
   "id": "c6c23f44",
   "metadata": {},
   "outputs": [],
   "source": [
    "# renaming columns for better understanding:\n",
    "\n",
    "weather_data_df.rename(columns={'temp':'temperature',\n",
    "                                'prcp':'total_precipitation',\n",
    "                                'snow':'snow_depth',\n",
    "                                'wspd':'average_wind_speed',\n",
    "                                'wpgt':'wind_peak_gust',\n",
    "                                'coco': 'weather_condition_code'}\n",
    "                                , inplace=True)"
   ]
  },
  {
   "attachments": {},
   "cell_type": "markdown",
   "id": "070b727d",
   "metadata": {},
   "source": [
    "#### 3.4. Pushing Weather Data to SQL Database"
   ]
  },
  {
   "cell_type": "code",
   "execution_count": null,
   "id": "ac4e1a5b",
   "metadata": {},
   "outputs": [],
   "source": [
    "import numpy as np\n",
    "import psycopg2 # needed to get database exception errors when uploading dataframe"
   ]
  },
  {
   "cell_type": "code",
   "execution_count": null,
   "id": "de7be455",
   "metadata": {},
   "outputs": [],
   "source": [
    "from sql_functions import get_engine\n",
    "engine = get_engine()"
   ]
  },
  {
   "cell_type": "code",
   "execution_count": null,
   "id": "a7634f69",
   "metadata": {},
   "outputs": [],
   "source": [
    "table_name = 'weather_data_group3'\n",
    "\n",
    "# writing records stored in a dataframe to SQL database:\n",
    "if engine!=None:\n",
    "    try:\n",
    "        weather_data_df.to_sql(name=table_name, # Name of SQL table\n",
    "                        con=engine, # Engine or connection\n",
    "                        if_exists='replace', # Drop the table before inserting new values \n",
    "                        schema=schema, # Use schmea that was defined earlier\n",
    "                        index=False, # Write DataFrame index as a column\n",
    "                        chunksize=5000, # Specify the number of rows in each batch to be written at a time\n",
    "                        method='multi') # Pass multiple values in a single INSERT clause\n",
    "        print(f\"The {table_name} table was imported successfully.\")\n",
    "    # Error handling\n",
    "    except (Exception, psycopg2.DatabaseError) as error:\n",
    "        print(error)\n",
    "        engine = None"
   ]
  },
  {
   "attachments": {},
   "cell_type": "markdown",
   "id": "3cc92890",
   "metadata": {},
   "source": [
    "## 4. Data Analysis"
   ]
  },
  {
   "cell_type": "code",
   "execution_count": 9,
   "id": "3feae2a8",
   "metadata": {},
   "outputs": [],
   "source": [
    "import matplotlib.pyplot as plt\n",
    "import seaborn as sns"
   ]
  },
  {
   "cell_type": "code",
   "execution_count": null,
   "id": "b20339f3",
   "metadata": {},
   "outputs": [],
   "source": [
    "schema = 'hh_analytics_23_1'"
   ]
  },
  {
   "attachments": {},
   "cell_type": "markdown",
   "id": "374da0ed",
   "metadata": {},
   "source": [
    "#### KPI 4.1.: Assessing Weather Conditions During the Storm Period"
   ]
  },
  {
   "cell_type": "code",
   "execution_count": 10,
   "id": "9d6731c3",
   "metadata": {},
   "outputs": [],
   "source": [
    "# defining the query to assess weather conditions\n",
    "schema = 'hh_analytics_23_1'\n",
    "query_condition_events = f\"SELECT  weather_condition, count(weather_condition) FROM {schema}.weather_data_group3 WHERE time > '2022-12-21' AND time < '2022-12-26' GROUP BY 1 ORDER BY 2 DESC;\"\n",
    "df_condition_events = get_dataframe(query_condition_events)"
   ]
  },
  {
   "cell_type": "code",
   "execution_count": 11,
   "id": "ea3debdb",
   "metadata": {},
   "outputs": [
    {
     "data": {
      "image/png": "[encoded data removed]",
      "text/plain": [
       "<Figure size 1500x800 with 1 Axes>"
      ]
     },
     "metadata": {},
     "output_type": "display_data"
    }
   ],
   "source": [
    "# charting weather conditions during the storm period\n",
    "plt.figure(figsize=(15,8)) # specify figure size\n",
    "f1 = sns.barplot(x= df_condition_events['weather_condition'], y=df_condition_events['count'])\n",
    "f1.tick_params(axis='x', rotation=None) # get x-ticks and rotate them\n",
    "f1.set_xlabel('Weather Condition') # set no label for x-axis \n",
    "f1.bar_label(f1.containers[0])\n",
    "f1.set_ylabel(\"# of times registered\", fontsize = 20); # set label for y-axis\n",
    "f1.set_title('Frequency of a certain weather condition happened during Storm Elliot (2022-12-21 - 2022-12-26)', fontsize=15); # set title"
   ]
  },
  {
   "attachments": {},
   "cell_type": "markdown",
   "id": "4c0a6037",
   "metadata": {},
   "source": [
    "#### 4.2. KPI: Daily Flight Cancellations and Delays During Storm Period"
   ]
  },
  {
   "cell_type": "code",
   "execution_count": null,
   "id": "9bccc68f",
   "metadata": {},
   "outputs": [],
   "source": [
    "# Convert the flight_date column to a datetime data type\n",
    "cancelled_by_date['flight_date'] = pd.to_datetime(cancelled_by_date['flight_date'])\n",
    "delayed_by_date['flight_date'] = pd.to_datetime(delayed_by_date['flight_date'])\n",
    "\n",
    "# Set the figure size and style\n",
    "plt.style.use('fivethirtyeight')\n",
    "plt.figure(figsize=(10, 5))\n",
    "plt.style.use('seaborn-whitegrid')\n",
    "\n",
    "# Create the line charts\n",
    "plt.plot(cancelled_by_date['flight_date'], cancelled_by_date.iloc[:, 0], label='Cancelled Flights')\n",
    "plt.plot(delayed_by_date['flight_date'], delayed_by_date.iloc[:, 0], label='Delayed Flights')\n",
    "\n",
    "# Add a title and axis labels\n",
    "plt.title('Daily Flight Cancellations and Delays')\n",
    "plt.xlabel('Date')\n",
    "plt.ylabel('Count')\n",
    "\n",
    "# Add a legend\n",
    "plt.legend()\n",
    "\n",
    "# Show the plot\n",
    "plt.show()"
   ]
  },
  {
   "attachments": {},
   "cell_type": "markdown",
   "id": "8243127f",
   "metadata": {},
   "source": [
    "#### KPI: Total Number of Flights Cancelled Categorized by Airports During Storm Period"
   ]
  },
  {
   "cell_type": "code",
   "execution_count": null,
   "id": "3309f457",
   "metadata": {},
   "outputs": [],
   "source": [
    "# defining the query to assess weather conditions \n",
    "sql_query = f\"SELECT origin, count(cancelled) FROM {schema}.flights_api_sql_group3_final WHERE origin IN ('ATL', 'DFW', 'DEN', 'ORD', 'LAX', 'JFK', 'EWR', 'LGA') AND flight_date IN ('2022-12-21', '2022-12-22', '2022-12-23', '2022-12-24', '2022-12-25', '2022-12-26') Group by 1\"\n",
    "\n",
    "df_cancelled_flights_by_airport =get_dataframe(sql_querry)"
   ]
  },
  {
   "cell_type": "code",
   "execution_count": null,
   "id": "17af8b12",
   "metadata": {},
   "outputs": [],
   "source": [
    "# visualization\n",
    "\n",
    "plt.figure(figsize=(13,7)) # specify figure size\n",
    "plt.style.use('fivethirtyeight')\n",
    "f1 = sns.barplot(x= df_cancelled_flights_by_airport['origin'], y=df_cancelled_flights_by_airport['count'])\n",
    "f1.tick_params(axis='x', rotation=80) # get x-ticks and rotate them\n",
    "f1.set_xlabel('Airports') # set no label for x-axis \n",
    "f1.bar_label(f1.containers[0])\n",
    "f1.set_ylabel(\"cancelled # of flights\", fontsize = 10); # set label for y-axis\n",
    "#f1.set_xticklabels(['Atlanta International Airport', 'Denver International Airport', 'Dallas Fort Worth International Airport', 'Newark Liberty International Airport', 'JFK International Airport', 'Los Angeles International Airport', 'La Guardia Airport (NY)', 'Chicago OHare International Airport'])\n",
    "f1.set_title('Total number of cancelled flights categorized by airports during the storm  Elliott (2022-12-21 - 2022-12-26)', fontsize=15); # set title (edited) "
   ]
  },
  {
   "attachments": {},
   "cell_type": "markdown",
   "id": "4456226e",
   "metadata": {},
   "source": [
    "#### 4.3. KPI: Total Flights Cancelled (Grouped by Airline) During Storm"
   ]
  },
  {
   "cell_type": "code",
   "execution_count": null,
   "id": "21ea9737",
   "metadata": {},
   "outputs": [],
   "source": [
    "sql_query_2 = f\"SELECT airline, count(cancelled) FROM {schema}.flights_api_sql_group3_final WHERE origin IN ('ATL', 'DFW', 'DEN', 'ORD', 'LAX', 'JFK', 'EWR', 'LGA') AND flight_date IN ('2022-12-21', '2022-12-22', '2022-12-23', '2022-12-24', '2022-12-25', '2022-12-26' ) GROUP BY 1 ORDER BY 2 DESC”\n",
    "\n",
    "df_cancelled_flights_by_airline = get_dataframe(sql_query_2)"
   ]
  },
  {
   "cell_type": "code",
   "execution_count": null,
   "id": "6ab47743",
   "metadata": {},
   "outputs": [],
   "source": [
    "plt.figure(figsize=(15,8)) # specify figure size\n",
    "f1 = sns.barplot(x= df_cancelled_flights_by_airline['airline'], y=df_cancelled_flights_by_airline['count'])\n",
    "f1.tick_params(axis='x', rotation=80) # get x-ticks and rotate them\n",
    "f1.set_xlabel('Airlines') # set no label for x-axis\n",
    "f1.bar_label(f1.containers[0])\n",
    "f1.set_ylabel(\"cancelled # of flights\", fontsize = 10); # set label for y-axis\n",
    "f1.set_xticklabels(labels=['Delta Air Lines','United Airlines Cargo', 'American Airlines', 'Southwest Airlines', 'Sky West Airlines', 'Republic Airways', 'IATA Designator', 'Envoy Air','Endeavor Air','Spirit Airlines','Frontier Airlines','Alaska Airlines','Mesa Airlines','Hawaiian Airlines','Allegiant Air','Comair', 'Horizon Air'])\n",
    "f1.set_title('Total number of flights cancelled categorized by airlines during the storm  Elliot (2022-12-21 - 2022-12-26)', fontsize=15); # set title (edited) "
   ]
  },
  {
   "attachments": {},
   "cell_type": "markdown",
   "id": "1de1ea5c",
   "metadata": {},
   "source": [
    "#### 4.4. KPI: Total Flights Cancelled and Avg Minutes of Delay in December - YoY Comparison"
   ]
  },
  {
   "cell_type": "code",
   "execution_count": null,
   "id": "489e83ef",
   "metadata": {},
   "outputs": [],
   "source": [
    "plt.style.use('fivethirtyeight') \n",
    "ig, ax = plt.subplots(figsize=(15,8))\n",
    "plt.suptitle('Avg Minutes Delay and Total Flight Cancelations YoY\"', fontsize=20)\n",
    "\n",
    "\n",
    "# plot line graph on axis #1\n",
    "ax1 = sns.barplot(x= df_yoy_cancelled['date_part'], y=df_yoy_cancelled['sum'])\n",
    "ax1.set_xticklabels(labels=[\"2018\", \"2019\", \"2020\", \"2021\", \"2022\"])\n",
    "ax1.set_title('Data: December 2018 - 2022', fontsize=15) \n",
    "\n",
    "ax1.set_xlabel('Year')\n",
    "ax1.set_ylabel('Cancelled Flights')\n",
    "ax1.set_ylim(0, 13000)\n",
    "\n",
    "ax1.legend(['# of Cancelled flights'], loc=\"upper center\")\n",
    "ax1.grid(b=False)\n",
    "ax1.bar_label(ax.containers[0]) #Adding values to the bars\n",
    "\n",
    "ax2 = ax1.twinx() # set up the 2nd axis\n",
    "\n",
    "# plot pointplot line on axis #2 Pointplot. Pointplot treats the x variable as categorical, similar to barplot.\n",
    "# Average Delay in Minutes\n",
    "sns.pointplot( \n",
    "    x= df_yoy_avg['year'],\n",
    "    y= df_yoy_avg['total_delay_min'], ci=None,\n",
    "    data= df_yoy_avg['year'],\n",
    "    sort=False, ax=ax2, scale=0.5)\n",
    "ax2.grid(b=False) # turn off grid #2\n",
    "ax2.set_xlabel('Year')\n",
    "ax2.set_ylabel('Avg Minutes of Delay')\n",
    "ax2.legend(['Avg Minutes of Delay'], loc=\"upper left\")"
   ]
  },
  {
   "cell_type": "code",
   "execution_count": null,
   "id": "913d185a",
   "metadata": {},
   "outputs": [],
   "source": []
  },
  {
   "cell_type": "code",
   "execution_count": null,
   "id": "96310a81",
   "metadata": {},
   "outputs": [],
   "source": []
  },
  {
   "cell_type": "code",
   "execution_count": null,
   "id": "d3ecfed5",
   "metadata": {},
   "outputs": [],
   "source": []
  },
  {
   "cell_type": "code",
   "execution_count": null,
   "id": "2a62f04a",
   "metadata": {},
   "outputs": [],
   "source": []
  }
 ],
 "metadata": {
  "kernelspec": {
   "display_name": "nf_sql",
   "language": "python",
   "name": "python3"
  },
  "language_info": {
   "codemirror_mode": {
    "name": "ipython",
    "version": 3
   },
   "file_extension": ".py",
   "mimetype": "text/x-python",
   "name": "python",
   "nbconvert_exporter": "python",
   "pygments_lexer": "ipython3",
   "version": "3.9.16"
  },
  "vscode": {
   "interpreter": {
    "hash": "a81d278bed5b5b59425dcb5a82ce505657686243c184b4a6b67e69d01c4d432e"
   }
  }
 },
 "nbformat": 4,
 "nbformat_minor": 5
}
